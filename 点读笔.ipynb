{
 "cells": [
  {
   "cell_type": "code",
   "execution_count": 42,
   "metadata": {},
   "outputs": [
    {
     "name": "stdout",
     "output_type": "stream",
     "text": [
      "Download 14800 George Catches a Cold\n",
      "Download 14801 Peppa Goes Swimming\n",
      "Download 14802 Daddy Pig's Old Chair\n",
      "Download 14803 Recycling Fun\n",
      "Download 14804 Tiny Creatures\n",
      "Download 14805 The Story of Prince George\n",
      "Download 14806 Peppa's New Neighbours\n",
      "Download 14807 Peppa's First Sleepover\n",
      "Download 14808 Peppa Pig's Family Computer\n",
      "Download 14809 Peppa Goes Camping\n",
      "Download 14810 Peppa Goes Boating\n",
      "Download 14811 Miss Rabbit's Day Off\n",
      "Download 14812 George's First Day at Playgroup\n",
      "Download 14813 Daddy Pig's Lost Keys\n",
      "Download 14814 Fun at the Fair\n",
      "Download 14815 Peppa Plays Football\n",
      "Download 14816 All about summer\n",
      "Download 14817 All about Amusement Parks\n",
      "Download 14818 All about Books\n",
      "Download 14819 All about Clothing\n"
     ]
    }
   ],
   "source": [
    "import urllib.request\n",
    "import json\n",
    "import os\n",
    "import shutil\n",
    "\n",
    "workPath = os.getcwd() + os.sep + '点读笔'\n",
    "\n",
    "# curl -H 'x-hb-client-type: audio-miniprogram' 'https://api.hbtown.com/bookshelf/v1/books/14382'\n",
    "def request(bookid, isAudio):\n",
    "    url = 'https://api.hbtown.com/bookshelf/v1/books/' + bookid + ('/audios' if isAudio else '')\n",
    "    headers = {'x-hb-client-type': 'audio-miniprogram'}\n",
    "    req = urllib.request.Request(url, None, headers)\n",
    "    try:\n",
    "        with urllib.request.urlopen(req) as response:\n",
    "            the_page = response.read()\n",
    "        return json.loads(the_page)\n",
    "    except urllib.request.URLError as e:\n",
    "        print(e)\n",
    "        return None\n",
    "    pass\n",
    "    \n",
    "\n",
    "def requestBook(bookid):\n",
    "    result = request(bookid, False)\n",
    "    if result == None:\n",
    "        print(\"Skip %s\" % (bookid))\n",
    "        return\n",
    "    name = result['book_name']\n",
    "    if result['is_audio'] == 0:\n",
    "        print(\"Skip %s %s\" % (bookid, name))\n",
    "        return\n",
    "    print(\"Download %s %s\" % (bookid, name))\n",
    "    bookpath = workPath + os.sep + bookid + '-' + name\n",
    "    if os.path.exists(bookpath):\n",
    "        if os.path.commonprefix((os.path.realpath(bookpath), workPath)):\n",
    "            shutil.rmtree(bookpath)\n",
    "        else:\n",
    "            raise Exception() \n",
    "    os.mkdir(bookpath)\n",
    "    audios = request(bookid, True)\n",
    "    for idx, audio in enumerate(audios):\n",
    "        resource_name = audio['resource_name']\n",
    "        audio_url = audio['audio_url']\n",
    "        audio_name = \"%03d-%s.mp3\" % (idx, resource_name)\n",
    "        audio_path = bookpath + os.sep + audio_name\n",
    "        urllib.request.urlretrieve (audio_url, audio_path)\n",
    "        pass\n",
    "    pass\n",
    "\n",
    "\n",
    "for i in range(14800, 14820, 1):\n",
    "    requestBook(str(i))\n",
    "\n",
    "# requestBook(str(3974))\n",
    "\n",
    "# 3900 < 4000\n",
    "# 11600 < 11700\n",
    "# 14003 < 14820\n",
    "# 16700 < 17000\n",
    "# 24000 < 24200\n"
   ]
  },
  {
   "cell_type": "code",
   "execution_count": 25,
   "metadata": {},
   "outputs": [],
   "source": [
    "# remove empty folder\n",
    "def removeEmpty():\n",
    "    for i in os.listdir(bookpath):\n",
    "        if os.path.isdir(i) and not os.listdir(i):\n",
    "            shutil.rmtree(i)\n",
    "            pass\n",
    "        pass\n",
    "    pass\n",
    "\n",
    "removeEmpty()"
   ]
  },
  {
   "cell_type": "code",
   "execution_count": null,
   "metadata": {},
   "outputs": [],
   "source": [
    "# https://aiyinsitan.baobaobooks.com/goodsapi/goods/12681/media"
   ]
  }
 ],
 "metadata": {
  "kernelspec": {
   "display_name": "Python 3",
   "language": "python",
   "name": "python3"
  },
  "language_info": {
   "codemirror_mode": {
    "name": "ipython",
    "version": 3
   },
   "file_extension": ".py",
   "mimetype": "text/x-python",
   "name": "python",
   "nbconvert_exporter": "python",
   "pygments_lexer": "ipython3",
   "version": "3.7.4"
  }
 },
 "nbformat": 4,
 "nbformat_minor": 2
}
