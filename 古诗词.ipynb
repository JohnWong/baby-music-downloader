{
 "cells": [
  {
   "cell_type": "code",
   "execution_count": 55,
   "metadata": {},
   "outputs": [
    {
     "name": "stdout",
     "output_type": "stream",
     "text": [
      "http://shared.ivydad.com/api/mobile/resource2/albumDetail?id=236&includes=audios&token=token-app-ivydad-503f51cf9fdc5945de9866c9d8efe423\n",
      "Download 《声律启蒙》旧版朗读\n",
      "Download 00-东.mp3\n",
      "https://service.ivydad.com/audio/83/5Lic_readaloud_1484590199_1.mp3\n",
      "Download 01-冬.mp3\n",
      "https://service.ivydad.com/audio/84/5Yas_readaloud_1484590209_2.mp3\n",
      "Download 02-江.mp3\n",
      "https://service.ivydad.com/audio/85/5rGf_readaloud_1484590218_1.mp3\n",
      "Download 03-支.mp3\n",
      "https://service.ivydad.com/audio/86/5pSv_readaloud_1484590227_1.mp3\n",
      "Download 04-微.mp3\n",
      "https://service.ivydad.com/audio/87/5b6u_readaloud_1484590236_1.mp3\n",
      "Download 05-鱼.mp3\n",
      "https://service.ivydad.com/audio/88/6bG8_readaloud_1484590245_1.mp3\n",
      "Download 06-虞.mp3\n",
      "https://service.ivydad.com/audio/89/6Jme_readaloud_1484590254_1.mp3\n",
      "Download 07-齐.mp3\n",
      "https://service.ivydad.com/audio/90/6b2Q_readaloud_1484590269_1.mp3\n",
      "Download 08-佳.mp3\n",
      "https://service.ivydad.com/audio/91/5L2z_readaloud_1484590273_1.mp3\n",
      "Download 09-灰.mp3\n",
      "https://service.ivydad.com/audio/92/54Gw_readaloud_1484590277_1.mp3\n",
      "Download 10-真.mp3\n",
      "https://service.ivydad.com/audio/93/55yf_readaloud_1484590281_1.mp3\n",
      "Download 11-文.mp3\n",
      "https://service.ivydad.com/audio/94/5paH_readaloud_1484590285_1.mp3\n",
      "Download 12-元.mp3\n",
      "https://service.ivydad.com/audio/95/5YWD_readaloud_1484590289_1.mp3\n",
      "Download 13-寒.mp3\n",
      "https://service.ivydad.com/audio/96/5a-S_readaloud_1493369438_2.mp3\n",
      "Download 14-删.mp3\n",
      "https://service.ivydad.com/audio/97/5Yig_readaloud_1484590297_3.mp3\n"
     ]
    }
   ],
   "source": [
    "import urllib.request\n",
    "import json\n",
    "import os\n",
    "import shutil\n",
    "\n",
    "workPath = os.getcwd() + os.sep + '常青藤爸爸'\n",
    "\n",
    "# https://shared.ivydad.com/api/mobile/resource2/albumDetail?id=1557&includes=audios\n",
    "def request(albumid):\n",
    "    token = 'token-app-ivydad-503f51cf9fdc5945de9866c9d8efe423'\n",
    "    url = 'http://shared.ivydad.com/api/mobile/resource2/albumDetail?id=%s&includes=audios&token=%s' % (albumid, token)\n",
    "    print(url)\n",
    "#     gcontext = ssl.SSLContext()\n",
    "    req = urllib.request.Request(url)\n",
    "    try:\n",
    "        with urllib.request.urlopen(req) as response:\n",
    "            the_page = response.read()\n",
    "        return json.loads(the_page)\n",
    "    except urllib.request.URLError as e:\n",
    "        print(e)\n",
    "        return None\n",
    "    pass\n",
    "    \n",
    "\n",
    "def requestAlbum(albumid):\n",
    "    result = request(albumid)\n",
    "    if result == None:\n",
    "        print(\"Skip %s\" % (albumid))\n",
    "        return\n",
    "    \n",
    "    title = result['title']\n",
    "    print('Download %s' % title)\n",
    "    albumPath = workPath + os.sep + albumid + '-' + title\n",
    "    if os.path.exists(albumPath):\n",
    "        if os.path.commonprefix((os.path.realpath(albumPath), workPath)):\n",
    "            shutil.rmtree(albumPath)\n",
    "        else:\n",
    "            raise Exception() \n",
    "    os.mkdir(albumPath)\n",
    "    \n",
    "    for idx, audio in enumerate(result['audios']):\n",
    "        name = \"%02d-%s.mp3\" % (idx, audio['title'])\n",
    "        print('Download %s' % name)\n",
    "        if 'audio_address' in audio:\n",
    "            audio_address = audio['audio_address']\n",
    "        else:\n",
    "            pass\n",
    "        print(audio_address)\n",
    "        urllib.request.urlretrieve(audio_address.replace('https://', 'http://'), albumPath + os.sep + name)\n",
    "    pass\n",
    "\n",
    "requestAlbum('236')"
   ]
  },
  {
   "cell_type": "code",
   "execution_count": 2,
   "metadata": {},
   "outputs": [],
   "source": [
    "def fixExtension():\n",
    "    path = workPath + os.sep + '75首小学生必背古诗词儿歌'\n",
    "    for file in os.listdir(path):\n",
    "        shutil.move(path + os.sep + file, path + os.sep + file + '.mp3')\n",
    "        pass\n",
    "    \n",
    "    pass\n",
    "\n",
    "fixExtension()"
   ]
  },
  {
   "cell_type": "code",
   "execution_count": null,
   "metadata": {},
   "outputs": [],
   "source": []
  }
 ],
 "metadata": {
  "kernelspec": {
   "display_name": "Python 3",
   "language": "python",
   "name": "python3"
  },
  "language_info": {
   "codemirror_mode": {
    "name": "ipython",
    "version": 3
   },
   "file_extension": ".py",
   "mimetype": "text/x-python",
   "name": "python",
   "nbconvert_exporter": "python",
   "pygments_lexer": "ipython3",
   "version": "3.7.4"
  }
 },
 "nbformat": 4,
 "nbformat_minor": 2
}
